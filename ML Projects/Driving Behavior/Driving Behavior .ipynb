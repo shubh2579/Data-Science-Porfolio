{
 "cells": [
  {
   "cell_type": "code",
   "execution_count": 235,
   "metadata": {},
   "outputs": [],
   "source": [
    "import pandas as pd\n",
    "import numpy as np\n",
    "import matplotlib.pyplot as plt\n",
    "%matplotlib inline\n",
    "import seaborn as sns"
   ]
  },
  {
   "cell_type": "markdown",
   "metadata": {},
   "source": [
    "# Reading CSV file and features present inside it."
   ]
  },
  {
   "cell_type": "code",
   "execution_count": 251,
   "metadata": {},
   "outputs": [],
   "source": [
    "df = pd.read_excel('triproute.xls')"
   ]
  },
  {
   "cell_type": "code",
   "execution_count": 252,
   "metadata": {},
   "outputs": [
    {
     "data": {
      "text/html": [
       "<div>\n",
       "<style scoped>\n",
       "    .dataframe tbody tr th:only-of-type {\n",
       "        vertical-align: middle;\n",
       "    }\n",
       "\n",
       "    .dataframe tbody tr th {\n",
       "        vertical-align: top;\n",
       "    }\n",
       "\n",
       "    .dataframe thead th {\n",
       "        text-align: right;\n",
       "    }\n",
       "</style>\n",
       "<table border=\"1\" class=\"dataframe\">\n",
       "  <thead>\n",
       "    <tr style=\"text-align: right;\">\n",
       "      <th></th>\n",
       "      <th>Trip_id</th>\n",
       "      <th>fuel_consumption</th>\n",
       "      <th>total_time</th>\n",
       "      <th>average_speed</th>\n",
       "      <th>Crash</th>\n",
       "      <th>distance_travelled</th>\n",
       "      <th>Alarms</th>\n",
       "      <th>max_speed</th>\n",
       "      <th>speedoverlimit</th>\n",
       "      <th>SuddenDcc</th>\n",
       "      <th>SuddenAcc</th>\n",
       "    </tr>\n",
       "  </thead>\n",
       "  <tbody>\n",
       "    <tr>\n",
       "      <th>0</th>\n",
       "      <td>1</td>\n",
       "      <td>1.633</td>\n",
       "      <td>00:43:37</td>\n",
       "      <td>30.494434</td>\n",
       "      <td>0</td>\n",
       "      <td>22676.0</td>\n",
       "      <td>0</td>\n",
       "      <td>118</td>\n",
       "      <td>184</td>\n",
       "      <td>4</td>\n",
       "      <td>1</td>\n",
       "    </tr>\n",
       "    <tr>\n",
       "      <th>1</th>\n",
       "      <td>2</td>\n",
       "      <td>0.284</td>\n",
       "      <td>00:14:10</td>\n",
       "      <td>18.058823</td>\n",
       "      <td>0</td>\n",
       "      <td>4000.0</td>\n",
       "      <td>0</td>\n",
       "      <td>60</td>\n",
       "      <td>77</td>\n",
       "      <td>3</td>\n",
       "      <td>1</td>\n",
       "    </tr>\n",
       "    <tr>\n",
       "      <th>2</th>\n",
       "      <td>3</td>\n",
       "      <td>0.088</td>\n",
       "      <td>00:02:33</td>\n",
       "      <td>18.087805</td>\n",
       "      <td>0</td>\n",
       "      <td>824.0</td>\n",
       "      <td>0</td>\n",
       "      <td>45</td>\n",
       "      <td>19</td>\n",
       "      <td>1</td>\n",
       "      <td>2</td>\n",
       "    </tr>\n",
       "    <tr>\n",
       "      <th>3</th>\n",
       "      <td>4</td>\n",
       "      <td>1.021</td>\n",
       "      <td>00:17:20</td>\n",
       "      <td>44.190735</td>\n",
       "      <td>0</td>\n",
       "      <td>13515.0</td>\n",
       "      <td>0</td>\n",
       "      <td>108</td>\n",
       "      <td>86</td>\n",
       "      <td>1</td>\n",
       "      <td>0</td>\n",
       "    </tr>\n",
       "    <tr>\n",
       "      <th>4</th>\n",
       "      <td>5</td>\n",
       "      <td>0.271</td>\n",
       "      <td>00:10:34</td>\n",
       "      <td>23.780981</td>\n",
       "      <td>0</td>\n",
       "      <td>4307.0</td>\n",
       "      <td>13</td>\n",
       "      <td>65</td>\n",
       "      <td>82</td>\n",
       "      <td>3</td>\n",
       "      <td>3</td>\n",
       "    </tr>\n",
       "  </tbody>\n",
       "</table>\n",
       "</div>"
      ],
      "text/plain": [
       "   Trip_id  fuel_consumption total_time  average_speed  Crash  \\\n",
       "0        1             1.633   00:43:37      30.494434      0   \n",
       "1        2             0.284   00:14:10      18.058823      0   \n",
       "2        3             0.088   00:02:33      18.087805      0   \n",
       "3        4             1.021   00:17:20      44.190735      0   \n",
       "4        5             0.271   00:10:34      23.780981      0   \n",
       "\n",
       "   distance_travelled  Alarms  max_speed  speedoverlimit  SuddenDcc  SuddenAcc  \n",
       "0             22676.0       0        118             184          4          1  \n",
       "1              4000.0       0         60              77          3          1  \n",
       "2               824.0       0         45              19          1          2  \n",
       "3             13515.0       0        108              86          1          0  \n",
       "4              4307.0      13         65              82          3          3  "
      ]
     },
     "execution_count": 252,
     "metadata": {},
     "output_type": "execute_result"
    }
   ],
   "source": [
    "df.head()"
   ]
  },
  {
   "cell_type": "raw",
   "metadata": {},
   "source": [
    "\n",
    "****** Columns explained  ******\n",
    "\n",
    "# Columns  -- \tDescription\n",
    "# fuel_consumption--> Fuel Consumed during that trip\n",
    "# total_time-->\ttime take for that trip\n",
    "# average_speed-->\tSpeed during the trip\n",
    "# Crash-->\tCrash event happened or not\n",
    "# distance_travelled-->\tDistance travelled during that trip\n",
    "# Alarms-->\tNo of Alarm Events\n",
    "# max_speed-->\tMaximum speed\n",
    "# speedoverlimit-->\tNo of speed Events\n",
    "# SuddenDcc-->\tNo of Sudden Deceleration Events\n",
    "# SuddenAcc-->\tNo of Sudden Acceleration Events\n"
   ]
  },
  {
   "cell_type": "code",
   "execution_count": 238,
   "metadata": {},
   "outputs": [
    {
     "name": "stdout",
     "output_type": "stream",
     "text": [
      "<class 'pandas.core.frame.DataFrame'>\n",
      "RangeIndex: 728 entries, 0 to 727\n",
      "Data columns (total 11 columns):\n",
      " #   Column              Non-Null Count  Dtype  \n",
      "---  ------              --------------  -----  \n",
      " 0   Trip_id             728 non-null    int64  \n",
      " 1   fuel_consumption    719 non-null    float64\n",
      " 2   total_time          728 non-null    object \n",
      " 3   average_speed       728 non-null    float64\n",
      " 4   Crash               728 non-null    int64  \n",
      " 5   distance_travelled  682 non-null    float64\n",
      " 6   Alarms              728 non-null    int64  \n",
      " 7   max_speed           728 non-null    int64  \n",
      " 8   speedoverlimit      728 non-null    int64  \n",
      " 9   SuddenDcc           728 non-null    int64  \n",
      " 10  SuddenAcc           728 non-null    int64  \n",
      "dtypes: float64(3), int64(7), object(1)\n",
      "memory usage: 62.7+ KB\n"
     ]
    }
   ],
   "source": [
    "df.info()"
   ]
  },
  {
   "cell_type": "code",
   "execution_count": 239,
   "metadata": {},
   "outputs": [
    {
     "data": {
      "text/plain": [
       "0"
      ]
     },
     "execution_count": 239,
     "metadata": {},
     "output_type": "execute_result"
    }
   ],
   "source": [
    "df.Crash.unique().sum()"
   ]
  },
  {
   "cell_type": "markdown",
   "metadata": {},
   "source": [
    "## Goals we need to acheive from the dataset\n",
    "\n",
    "### 1. Define a scoring algorithm based on the driving behaviour.\n",
    "### 2. Extract Key insights from the Given Dataset.\n",
    "### 3. Suggest any other metrics which can be devised for measuring driving behaviour."
   ]
  },
  {
   "cell_type": "raw",
   "metadata": {},
   "source": [
    "Driving behaviour can depend on various factors but as far as the dataset is concerned\n",
    "we will be taking only the important factors such as:\n",
    "\n",
    "* No. of Speed events\n",
    "* No of Sudden Deceleration Events\n",
    "* No of Sudden Acceleration Events\n",
    "* No of alarm events\n",
    "* Crash event happened or not\n",
    "\n",
    "In the dataset we dont have any crash events so as of now we are skipping this feature"
   ]
  },
  {
   "cell_type": "markdown",
   "metadata": {},
   "source": [
    "### Leanring about data through vizualizations and Key Insights\n"
   ]
  },
  {
   "cell_type": "code",
   "execution_count": 240,
   "metadata": {},
   "outputs": [
    {
     "data": {
      "text/html": [
       "<div>\n",
       "<style scoped>\n",
       "    .dataframe tbody tr th:only-of-type {\n",
       "        vertical-align: middle;\n",
       "    }\n",
       "\n",
       "    .dataframe tbody tr th {\n",
       "        vertical-align: top;\n",
       "    }\n",
       "\n",
       "    .dataframe thead th {\n",
       "        text-align: right;\n",
       "    }\n",
       "</style>\n",
       "<table border=\"1\" class=\"dataframe\">\n",
       "  <thead>\n",
       "    <tr style=\"text-align: right;\">\n",
       "      <th></th>\n",
       "      <th>Trip_id</th>\n",
       "      <th>fuel_consumption</th>\n",
       "      <th>average_speed</th>\n",
       "      <th>Crash</th>\n",
       "      <th>distance_travelled</th>\n",
       "      <th>Alarms</th>\n",
       "      <th>max_speed</th>\n",
       "      <th>speedoverlimit</th>\n",
       "      <th>SuddenDcc</th>\n",
       "      <th>SuddenAcc</th>\n",
       "    </tr>\n",
       "  </thead>\n",
       "  <tbody>\n",
       "    <tr>\n",
       "      <th>count</th>\n",
       "      <td>728.000000</td>\n",
       "      <td>719.000000</td>\n",
       "      <td>728.000000</td>\n",
       "      <td>728.0</td>\n",
       "      <td>682.000000</td>\n",
       "      <td>728.000000</td>\n",
       "      <td>728.00000</td>\n",
       "      <td>728.000000</td>\n",
       "      <td>728.000000</td>\n",
       "      <td>728.000000</td>\n",
       "    </tr>\n",
       "    <tr>\n",
       "      <th>mean</th>\n",
       "      <td>364.500000</td>\n",
       "      <td>1.426636</td>\n",
       "      <td>33.288791</td>\n",
       "      <td>0.0</td>\n",
       "      <td>21624.659824</td>\n",
       "      <td>0.982143</td>\n",
       "      <td>79.95467</td>\n",
       "      <td>90.826923</td>\n",
       "      <td>3.451923</td>\n",
       "      <td>2.708791</td>\n",
       "    </tr>\n",
       "    <tr>\n",
       "      <th>std</th>\n",
       "      <td>210.299786</td>\n",
       "      <td>2.673602</td>\n",
       "      <td>21.233701</td>\n",
       "      <td>0.0</td>\n",
       "      <td>39628.476193</td>\n",
       "      <td>3.437948</td>\n",
       "      <td>41.03227</td>\n",
       "      <td>83.443267</td>\n",
       "      <td>4.468800</td>\n",
       "      <td>4.603728</td>\n",
       "    </tr>\n",
       "    <tr>\n",
       "      <th>min</th>\n",
       "      <td>1.000000</td>\n",
       "      <td>0.000000</td>\n",
       "      <td>0.498462</td>\n",
       "      <td>0.0</td>\n",
       "      <td>9.000000</td>\n",
       "      <td>0.000000</td>\n",
       "      <td>8.00000</td>\n",
       "      <td>1.000000</td>\n",
       "      <td>0.000000</td>\n",
       "      <td>0.000000</td>\n",
       "    </tr>\n",
       "    <tr>\n",
       "      <th>25%</th>\n",
       "      <td>182.750000</td>\n",
       "      <td>0.193500</td>\n",
       "      <td>18.404610</td>\n",
       "      <td>0.0</td>\n",
       "      <td>3000.000000</td>\n",
       "      <td>0.000000</td>\n",
       "      <td>50.00000</td>\n",
       "      <td>34.750000</td>\n",
       "      <td>0.000000</td>\n",
       "      <td>0.000000</td>\n",
       "    </tr>\n",
       "    <tr>\n",
       "      <th>50%</th>\n",
       "      <td>364.500000</td>\n",
       "      <td>0.522000</td>\n",
       "      <td>29.872977</td>\n",
       "      <td>0.0</td>\n",
       "      <td>7456.000000</td>\n",
       "      <td>0.000000</td>\n",
       "      <td>74.00000</td>\n",
       "      <td>72.000000</td>\n",
       "      <td>2.000000</td>\n",
       "      <td>1.000000</td>\n",
       "    </tr>\n",
       "    <tr>\n",
       "      <th>75%</th>\n",
       "      <td>546.250000</td>\n",
       "      <td>1.260000</td>\n",
       "      <td>43.100763</td>\n",
       "      <td>0.0</td>\n",
       "      <td>19000.000000</td>\n",
       "      <td>0.000000</td>\n",
       "      <td>114.00000</td>\n",
       "      <td>124.250000</td>\n",
       "      <td>5.000000</td>\n",
       "      <td>3.000000</td>\n",
       "    </tr>\n",
       "    <tr>\n",
       "      <th>max</th>\n",
       "      <td>728.000000</td>\n",
       "      <td>24.898000</td>\n",
       "      <td>117.499810</td>\n",
       "      <td>0.0</td>\n",
       "      <td>342000.000000</td>\n",
       "      <td>13.000000</td>\n",
       "      <td>178.00000</td>\n",
       "      <td>820.000000</td>\n",
       "      <td>41.000000</td>\n",
       "      <td>39.000000</td>\n",
       "    </tr>\n",
       "  </tbody>\n",
       "</table>\n",
       "</div>"
      ],
      "text/plain": [
       "          Trip_id  fuel_consumption  average_speed  Crash  distance_travelled  \\\n",
       "count  728.000000        719.000000     728.000000  728.0          682.000000   \n",
       "mean   364.500000          1.426636      33.288791    0.0        21624.659824   \n",
       "std    210.299786          2.673602      21.233701    0.0        39628.476193   \n",
       "min      1.000000          0.000000       0.498462    0.0            9.000000   \n",
       "25%    182.750000          0.193500      18.404610    0.0         3000.000000   \n",
       "50%    364.500000          0.522000      29.872977    0.0         7456.000000   \n",
       "75%    546.250000          1.260000      43.100763    0.0        19000.000000   \n",
       "max    728.000000         24.898000     117.499810    0.0       342000.000000   \n",
       "\n",
       "           Alarms  max_speed  speedoverlimit   SuddenDcc   SuddenAcc  \n",
       "count  728.000000  728.00000      728.000000  728.000000  728.000000  \n",
       "mean     0.982143   79.95467       90.826923    3.451923    2.708791  \n",
       "std      3.437948   41.03227       83.443267    4.468800    4.603728  \n",
       "min      0.000000    8.00000        1.000000    0.000000    0.000000  \n",
       "25%      0.000000   50.00000       34.750000    0.000000    0.000000  \n",
       "50%      0.000000   74.00000       72.000000    2.000000    1.000000  \n",
       "75%      0.000000  114.00000      124.250000    5.000000    3.000000  \n",
       "max     13.000000  178.00000      820.000000   41.000000   39.000000  "
      ]
     },
     "execution_count": 240,
     "metadata": {},
     "output_type": "execute_result"
    }
   ],
   "source": [
    "df.describe()"
   ]
  },
  {
   "cell_type": "code",
   "execution_count": 241,
   "metadata": {},
   "outputs": [
    {
     "name": "stderr",
     "output_type": "stream",
     "text": [
      "C:\\anaconda\\lib\\site-packages\\seaborn\\_decorators.py:36: FutureWarning: Pass the following variable as a keyword arg: x. From version 0.12, the only valid positional argument will be `data`, and passing other arguments without an explicit keyword will result in an error or misinterpretation.\n",
      "  warnings.warn(\n"
     ]
    },
    {
     "data": {
      "text/plain": [
       "<AxesSubplot:xlabel='SuddenDcc', ylabel='count'>"
      ]
     },
     "execution_count": 241,
     "metadata": {},
     "output_type": "execute_result"
    },
    {
     "data": {
      "image/png": "[encoded data removed]",
      "text/plain": [
       "<Figure size 432x288 with 1 Axes>"
      ]
     },
     "metadata": {
      "needs_background": "light"
     },
     "output_type": "display_data"
    }
   ],
   "source": [
    "sns.countplot(df.SuddenDcc)"
   ]
  },
  {
   "cell_type": "markdown",
   "metadata": {},
   "source": [
    "####                          Right skewed distribution"
   ]
  },
  {
   "cell_type": "code",
   "execution_count": 242,
   "metadata": {},
   "outputs": [
    {
     "name": "stderr",
     "output_type": "stream",
     "text": [
      "C:\\anaconda\\lib\\site-packages\\seaborn\\_decorators.py:36: FutureWarning: Pass the following variable as a keyword arg: x. From version 0.12, the only valid positional argument will be `data`, and passing other arguments without an explicit keyword will result in an error or misinterpretation.\n",
      "  warnings.warn(\n"
     ]
    },
    {
     "data": {
      "text/plain": [
       "<AxesSubplot:xlabel='SuddenAcc', ylabel='count'>"
      ]
     },
     "execution_count": 242,
     "metadata": {},
     "output_type": "execute_result"
    },
    {
     "data": {
      "image/png": "[encoded data removed]",
      "text/plain": [
       "<Figure size 432x288 with 1 Axes>"
      ]
     },
     "metadata": {
      "needs_background": "light"
     },
     "output_type": "display_data"
    }
   ],
   "source": [
    "sns.countplot(df.SuddenAcc)"
   ]
  },
  {
   "cell_type": "markdown",
   "metadata": {},
   "source": [
    "#### Distribution is right skewed for this feature"
   ]
  },
  {
   "cell_type": "code",
   "execution_count": 243,
   "metadata": {},
   "outputs": [
    {
     "name": "stderr",
     "output_type": "stream",
     "text": [
      "C:\\anaconda\\lib\\site-packages\\seaborn\\_decorators.py:36: FutureWarning: Pass the following variable as a keyword arg: x. From version 0.12, the only valid positional argument will be `data`, and passing other arguments without an explicit keyword will result in an error or misinterpretation.\n",
      "  warnings.warn(\n"
     ]
    },
    {
     "data": {
      "text/plain": [
       "<AxesSubplot:xlabel='Alarms', ylabel='count'>"
      ]
     },
     "execution_count": 243,
     "metadata": {},
     "output_type": "execute_result"
    },
    {
     "data": {
      "image/png": "[encoded data removed]",
      "text/plain": [
       "<Figure size 432x288 with 1 Axes>"
      ]
     },
     "metadata": {
      "needs_background": "light"
     },
     "output_type": "display_data"
    }
   ],
   "source": [
    "sns.countplot(df.Alarms)"
   ]
  },
  {
   "cell_type": "code",
   "execution_count": 319,
   "metadata": {},
   "outputs": [
    {
     "data": {
      "text/plain": [
       "<AxesSubplot:>"
      ]
     },
     "execution_count": 319,
     "metadata": {},
     "output_type": "execute_result"
    },
    {
     "data": {
      "image/png": "[encoded data removed]",
      "text/plain": [
       "<Figure size 720x360 with 2 Axes>"
      ]
     },
     "metadata": {
      "needs_background": "light"
     },
     "output_type": "display_data"
    }
   ],
   "source": [
    "plt.figure(figsize=[10,5])\n",
    "sns.heatmap(df.corr(),annot=True,cmap='BrBG')"
   ]
  },
  {
   "cell_type": "markdown",
   "metadata": {},
   "source": [
    "#### * Feature Selection Technique *\n",
    "#### You can put a thershold and eliminate the columns which are highly correlated"
   ]
  },
  {
   "cell_type": "code",
   "execution_count": 244,
   "metadata": {},
   "outputs": [
    {
     "data": {
      "text/plain": [
       "0     673\n",
       "13     55\n",
       "Name: Alarms, dtype: int64"
      ]
     },
     "execution_count": 244,
     "metadata": {},
     "output_type": "execute_result"
    }
   ],
   "source": [
    "df.Alarms.value_counts()"
   ]
  },
  {
   "cell_type": "code",
   "execution_count": 245,
   "metadata": {},
   "outputs": [],
   "source": [
    "# Now for one feature that we will be working upon is Speedoverlimit->No. of Speed events\n",
    "# So in here we cannot take directly the values and make clusters over them as for a right seed events value\n",
    "# We need to take the distance travelled as well\n",
    "# i.e. right speed event value = Distance travelled by a person / No. of speed events and has the same datatype(int)\n",
    "# we will derive a new column for it and merge it in df"
   ]
  },
  {
   "cell_type": "code",
   "execution_count": 253,
   "metadata": {},
   "outputs": [
    {
     "name": "stdout",
     "output_type": "stream",
     "text": [
      "21624.65982404692\n",
      "0    22.676\n",
      "1     4.000\n",
      "2     0.824\n",
      "3    13.515\n",
      "4     4.307\n",
      "Name: distance_travelled, dtype: float64\n"
     ]
    },
    {
     "data": {
      "text/html": [
       "<div>\n",
       "<style scoped>\n",
       "    .dataframe tbody tr th:only-of-type {\n",
       "        vertical-align: middle;\n",
       "    }\n",
       "\n",
       "    .dataframe tbody tr th {\n",
       "        vertical-align: top;\n",
       "    }\n",
       "\n",
       "    .dataframe thead th {\n",
       "        text-align: right;\n",
       "    }\n",
       "</style>\n",
       "<table border=\"1\" class=\"dataframe\">\n",
       "  <thead>\n",
       "    <tr style=\"text-align: right;\">\n",
       "      <th></th>\n",
       "      <th>Trip_id</th>\n",
       "      <th>fuel_consumption</th>\n",
       "      <th>total_time</th>\n",
       "      <th>average_speed</th>\n",
       "      <th>Crash</th>\n",
       "      <th>distance_travelled</th>\n",
       "      <th>Alarms</th>\n",
       "      <th>max_speed</th>\n",
       "      <th>speedoverlimit</th>\n",
       "      <th>SuddenDcc</th>\n",
       "      <th>SuddenAcc</th>\n",
       "      <th>actualspeedevents</th>\n",
       "    </tr>\n",
       "  </thead>\n",
       "  <tbody>\n",
       "    <tr>\n",
       "      <th>0</th>\n",
       "      <td>1</td>\n",
       "      <td>1.633</td>\n",
       "      <td>00:43:37</td>\n",
       "      <td>30.494434</td>\n",
       "      <td>0</td>\n",
       "      <td>22.676</td>\n",
       "      <td>0</td>\n",
       "      <td>118</td>\n",
       "      <td>184</td>\n",
       "      <td>4</td>\n",
       "      <td>1</td>\n",
       "      <td>8</td>\n",
       "    </tr>\n",
       "    <tr>\n",
       "      <th>1</th>\n",
       "      <td>2</td>\n",
       "      <td>0.284</td>\n",
       "      <td>00:14:10</td>\n",
       "      <td>18.058823</td>\n",
       "      <td>0</td>\n",
       "      <td>4.000</td>\n",
       "      <td>0</td>\n",
       "      <td>60</td>\n",
       "      <td>77</td>\n",
       "      <td>3</td>\n",
       "      <td>1</td>\n",
       "      <td>19</td>\n",
       "    </tr>\n",
       "    <tr>\n",
       "      <th>2</th>\n",
       "      <td>3</td>\n",
       "      <td>0.088</td>\n",
       "      <td>00:02:33</td>\n",
       "      <td>18.087805</td>\n",
       "      <td>0</td>\n",
       "      <td>0.824</td>\n",
       "      <td>0</td>\n",
       "      <td>45</td>\n",
       "      <td>19</td>\n",
       "      <td>1</td>\n",
       "      <td>2</td>\n",
       "      <td>23</td>\n",
       "    </tr>\n",
       "    <tr>\n",
       "      <th>3</th>\n",
       "      <td>4</td>\n",
       "      <td>1.021</td>\n",
       "      <td>00:17:20</td>\n",
       "      <td>44.190735</td>\n",
       "      <td>0</td>\n",
       "      <td>13.515</td>\n",
       "      <td>0</td>\n",
       "      <td>108</td>\n",
       "      <td>86</td>\n",
       "      <td>1</td>\n",
       "      <td>0</td>\n",
       "      <td>6</td>\n",
       "    </tr>\n",
       "    <tr>\n",
       "      <th>4</th>\n",
       "      <td>5</td>\n",
       "      <td>0.271</td>\n",
       "      <td>00:10:34</td>\n",
       "      <td>23.780981</td>\n",
       "      <td>0</td>\n",
       "      <td>4.307</td>\n",
       "      <td>13</td>\n",
       "      <td>65</td>\n",
       "      <td>82</td>\n",
       "      <td>3</td>\n",
       "      <td>3</td>\n",
       "      <td>19</td>\n",
       "    </tr>\n",
       "  </tbody>\n",
       "</table>\n",
       "</div>"
      ],
      "text/plain": [
       "   Trip_id  fuel_consumption total_time  average_speed  Crash  \\\n",
       "0        1             1.633   00:43:37      30.494434      0   \n",
       "1        2             0.284   00:14:10      18.058823      0   \n",
       "2        3             0.088   00:02:33      18.087805      0   \n",
       "3        4             1.021   00:17:20      44.190735      0   \n",
       "4        5             0.271   00:10:34      23.780981      0   \n",
       "\n",
       "   distance_travelled  Alarms  max_speed  speedoverlimit  SuddenDcc  \\\n",
       "0              22.676       0        118             184          4   \n",
       "1               4.000       0         60              77          3   \n",
       "2               0.824       0         45              19          1   \n",
       "3              13.515       0        108              86          1   \n",
       "4               4.307      13         65              82          3   \n",
       "\n",
       "   SuddenAcc  actualspeedevents  \n",
       "0          1                  8  \n",
       "1          1                 19  \n",
       "2          2                 23  \n",
       "3          0                  6  \n",
       "4          3                 19  "
      ]
     },
     "execution_count": 253,
     "metadata": {},
     "output_type": "execute_result"
    }
   ],
   "source": [
    "print(np.mean(df.distance_travelled))\n",
    "df.distance_travelled.fillna(np.mean(df.distance_travelled),inplace=True)\n",
    "df['distance_travelled']=df['distance_travelled']/1000.0\n",
    "print(df['distance_travelled'].head())\n",
    "df['actualspeedevents'] = round(( df.speedoverlimit/df.distance_travelled),0).astype(int)\n",
    "df['actualspeedevents'].head()\n",
    "df.head()"
   ]
  },
  {
   "cell_type": "code",
   "execution_count": 254,
   "metadata": {},
   "outputs": [],
   "source": [
    "#will take one coulumn at a time(only the ones to be used for clustering) and see the outlier rate\n",
    "# and use the appropriate clustering algo"
   ]
  },
  {
   "cell_type": "code",
   "execution_count": 256,
   "metadata": {},
   "outputs": [
    {
     "name": "stdout",
     "output_type": "stream",
     "text": [
      "-2.5 12.5\n",
      "Outlier count for SuddenDcc:  34\n",
      "-1.5 7.5\n",
      "Outlier count for SuddenAcc:  71\n",
      "-1.0 35.0\n",
      "Outlier count for actualspeedevents:  34\n"
     ]
    }
   ],
   "source": [
    "# using IQR for outlier detection\n",
    "# for SuddenDcc\n",
    "iqr = np.percentile(df.SuddenDcc,75)-np.percentile(df.SuddenDcc,25)\n",
    "lower_bound = np.percentile(df.SuddenDcc,75) - (1.5*iqr)\n",
    "upper_bound = np.percentile(df.SuddenDcc,75) + (1.5*iqr)\n",
    "print(lower_bound,upper_bound)\n",
    "count=0\n",
    "for i in df.SuddenDcc:\n",
    "    if (i< -2.5 or i>12.5):\n",
    "        count +=1\n",
    "    else:\n",
    "        continue\n",
    "print('Outlier count for SuddenDcc: ',count)\n",
    "# for SuddenAcc\n",
    "iqr = np.percentile(df.SuddenAcc,75)-np.percentile(df.SuddenAcc,25)\n",
    "lower_bound = np.percentile(df.SuddenAcc,75) - (1.5*iqr)\n",
    "upper_bound = np.percentile(df.SuddenAcc,75) + (1.5*iqr)\n",
    "print(lower_bound,upper_bound)\n",
    "count=0\n",
    "for i in df.SuddenAcc:\n",
    "    if (i< -1.5 or i>7.5):\n",
    "        count +=1\n",
    "    else:\n",
    "        continue\n",
    "print('Outlier count for SuddenAcc: ',count)\n",
    "\n",
    "# for actualspeedevents\n",
    "\n",
    "iqr = np.percentile(df.actualspeedevents,75)-np.percentile(df.actualspeedevents,25)\n",
    "lower_bound = np.percentile(df.actualspeedevents,75) - (1.5*iqr)\n",
    "upper_bound = np.percentile(df.actualspeedevents,75) + (1.5*iqr)\n",
    "print(lower_bound,upper_bound)\n",
    "count=0\n",
    "for i in df.actualspeedevents:\n",
    "    if (i< -1.0 or i>35.0):\n",
    "        count +=1\n",
    "    else:\n",
    "        continue\n",
    "print('Outlier count for actualspeedevents: ',count)"
   ]
  },
  {
   "cell_type": "code",
   "execution_count": 257,
   "metadata": {},
   "outputs": [],
   "source": [
    "# you can either use k-means clustering/k-medoids clustering/DBSCAN or you can use different cluster algo for different\n",
    "# features depending on the outlier count\n",
    "# for this case i am using K-means clustering and to find the optimal value of (k) you can use elbow method or silhoutte score."
   ]
  },
  {
   "cell_type": "code",
   "execution_count": 258,
   "metadata": {},
   "outputs": [
    {
     "name": "stderr",
     "output_type": "stream",
     "text": [
      "<ipython-input-258-19cc65b6b0f7>:6: SettingWithCopyWarning: \n",
      "A value is trying to be set on a copy of a slice from a DataFrame.\n",
      "Try using .loc[row_indexer,col_indexer] = value instead\n",
      "\n",
      "See the caveats in the documentation: https://pandas.pydata.org/pandas-docs/stable/user_guide/indexing.html#returning-a-view-versus-a-copy\n",
      "  rankingcluster[\"clusters\"] = kmeans.labels_\n",
      "<ipython-input-258-19cc65b6b0f7>:6: SettingWithCopyWarning: \n",
      "A value is trying to be set on a copy of a slice from a DataFrame.\n",
      "Try using .loc[row_indexer,col_indexer] = value instead\n",
      "\n",
      "See the caveats in the documentation: https://pandas.pydata.org/pandas-docs/stable/user_guide/indexing.html#returning-a-view-versus-a-copy\n",
      "  rankingcluster[\"clusters\"] = kmeans.labels_\n",
      "<ipython-input-258-19cc65b6b0f7>:6: SettingWithCopyWarning: \n",
      "A value is trying to be set on a copy of a slice from a DataFrame.\n",
      "Try using .loc[row_indexer,col_indexer] = value instead\n",
      "\n",
      "See the caveats in the documentation: https://pandas.pydata.org/pandas-docs/stable/user_guide/indexing.html#returning-a-view-versus-a-copy\n",
      "  rankingcluster[\"clusters\"] = kmeans.labels_\n",
      "<ipython-input-258-19cc65b6b0f7>:6: SettingWithCopyWarning: \n",
      "A value is trying to be set on a copy of a slice from a DataFrame.\n",
      "Try using .loc[row_indexer,col_indexer] = value instead\n",
      "\n",
      "See the caveats in the documentation: https://pandas.pydata.org/pandas-docs/stable/user_guide/indexing.html#returning-a-view-versus-a-copy\n",
      "  rankingcluster[\"clusters\"] = kmeans.labels_\n",
      "<ipython-input-258-19cc65b6b0f7>:6: SettingWithCopyWarning: \n",
      "A value is trying to be set on a copy of a slice from a DataFrame.\n",
      "Try using .loc[row_indexer,col_indexer] = value instead\n",
      "\n",
      "See the caveats in the documentation: https://pandas.pydata.org/pandas-docs/stable/user_guide/indexing.html#returning-a-view-versus-a-copy\n",
      "  rankingcluster[\"clusters\"] = kmeans.labels_\n",
      "<ipython-input-258-19cc65b6b0f7>:6: SettingWithCopyWarning: \n",
      "A value is trying to be set on a copy of a slice from a DataFrame.\n",
      "Try using .loc[row_indexer,col_indexer] = value instead\n",
      "\n",
      "See the caveats in the documentation: https://pandas.pydata.org/pandas-docs/stable/user_guide/indexing.html#returning-a-view-versus-a-copy\n",
      "  rankingcluster[\"clusters\"] = kmeans.labels_\n",
      "<ipython-input-258-19cc65b6b0f7>:6: SettingWithCopyWarning: \n",
      "A value is trying to be set on a copy of a slice from a DataFrame.\n",
      "Try using .loc[row_indexer,col_indexer] = value instead\n",
      "\n",
      "See the caveats in the documentation: https://pandas.pydata.org/pandas-docs/stable/user_guide/indexing.html#returning-a-view-versus-a-copy\n",
      "  rankingcluster[\"clusters\"] = kmeans.labels_\n",
      "<ipython-input-258-19cc65b6b0f7>:6: SettingWithCopyWarning: \n",
      "A value is trying to be set on a copy of a slice from a DataFrame.\n",
      "Try using .loc[row_indexer,col_indexer] = value instead\n",
      "\n",
      "See the caveats in the documentation: https://pandas.pydata.org/pandas-docs/stable/user_guide/indexing.html#returning-a-view-versus-a-copy\n",
      "  rankingcluster[\"clusters\"] = kmeans.labels_\n",
      "<ipython-input-258-19cc65b6b0f7>:6: SettingWithCopyWarning: \n",
      "A value is trying to be set on a copy of a slice from a DataFrame.\n",
      "Try using .loc[row_indexer,col_indexer] = value instead\n",
      "\n",
      "See the caveats in the documentation: https://pandas.pydata.org/pandas-docs/stable/user_guide/indexing.html#returning-a-view-versus-a-copy\n",
      "  rankingcluster[\"clusters\"] = kmeans.labels_\n"
     ]
    },
    {
     "name": "stdout",
     "output_type": "stream",
     "text": [
      "{1: 167713.7774725273, 2: 93696.52084024108, 3: 57658.766838848904, 4: 44108.72692716636, 5: 32864.150032619335, 6: 28379.306070646115, 7: 24200.085274305533, 8: 21024.431669158334, 9: 18371.80924502058}\n"
     ]
    },
    {
     "data": {
      "image/png": "[encoded data removed]",
      "text/plain": [
       "<Figure size 720x360 with 1 Axes>"
      ]
     },
     "metadata": {
      "needs_background": "light"
     },
     "output_type": "display_data"
    }
   ],
   "source": [
    "from sklearn.cluster import KMeans\n",
    "sse={}\n",
    "rankingcluster = df.iloc[:,[9,10,11]]\n",
    "for k in range(1, 10):\n",
    "    kmeans = KMeans(n_clusters=k, max_iter=1000).fit(rankingcluster)\n",
    "    rankingcluster[\"clusters\"] = kmeans.labels_\n",
    "    \n",
    "    sse[k] = kmeans.inertia_\n",
    "print(sse)\n",
    "    \n",
    "plt.figure(figsize=(10, 5))\n",
    "plt.plot(list(sse.keys()), list(sse.values()))\n",
    "plt.xlabel(\"Number of cluster\")\n",
    "plt.show()"
   ]
  },
  {
   "cell_type": "code",
   "execution_count": 259,
   "metadata": {},
   "outputs": [
    {
     "name": "stderr",
     "output_type": "stream",
     "text": [
      "<ipython-input-259-674f8b32c2a5>:3: SettingWithCopyWarning: \n",
      "A value is trying to be set on a copy of a slice from a DataFrame.\n",
      "Try using .loc[row_indexer,col_indexer] = value instead\n",
      "\n",
      "See the caveats in the documentation: https://pandas.pydata.org/pandas-docs/stable/user_guide/indexing.html#returning-a-view-versus-a-copy\n",
      "  rankingcluster['Ranking'] = kmeans.predict(rankingcluster)\n"
     ]
    },
    {
     "data": {
      "text/html": [
       "<div>\n",
       "<style scoped>\n",
       "    .dataframe tbody tr th:only-of-type {\n",
       "        vertical-align: middle;\n",
       "    }\n",
       "\n",
       "    .dataframe tbody tr th {\n",
       "        vertical-align: top;\n",
       "    }\n",
       "\n",
       "    .dataframe thead th {\n",
       "        text-align: right;\n",
       "    }\n",
       "</style>\n",
       "<table border=\"1\" class=\"dataframe\">\n",
       "  <thead>\n",
       "    <tr style=\"text-align: right;\">\n",
       "      <th></th>\n",
       "      <th>SuddenDcc</th>\n",
       "      <th>SuddenAcc</th>\n",
       "      <th>actualspeedevents</th>\n",
       "      <th>clusters</th>\n",
       "      <th>Ranking</th>\n",
       "    </tr>\n",
       "  </thead>\n",
       "  <tbody>\n",
       "    <tr>\n",
       "      <th>0</th>\n",
       "      <td>4</td>\n",
       "      <td>1</td>\n",
       "      <td>8</td>\n",
       "      <td>8</td>\n",
       "      <td>2</td>\n",
       "    </tr>\n",
       "    <tr>\n",
       "      <th>1</th>\n",
       "      <td>3</td>\n",
       "      <td>1</td>\n",
       "      <td>19</td>\n",
       "      <td>0</td>\n",
       "      <td>1</td>\n",
       "    </tr>\n",
       "    <tr>\n",
       "      <th>2</th>\n",
       "      <td>1</td>\n",
       "      <td>2</td>\n",
       "      <td>23</td>\n",
       "      <td>0</td>\n",
       "      <td>1</td>\n",
       "    </tr>\n",
       "    <tr>\n",
       "      <th>3</th>\n",
       "      <td>1</td>\n",
       "      <td>0</td>\n",
       "      <td>6</td>\n",
       "      <td>3</td>\n",
       "      <td>2</td>\n",
       "    </tr>\n",
       "    <tr>\n",
       "      <th>4</th>\n",
       "      <td>3</td>\n",
       "      <td>3</td>\n",
       "      <td>19</td>\n",
       "      <td>0</td>\n",
       "      <td>1</td>\n",
       "    </tr>\n",
       "    <tr>\n",
       "      <th>...</th>\n",
       "      <td>...</td>\n",
       "      <td>...</td>\n",
       "      <td>...</td>\n",
       "      <td>...</td>\n",
       "      <td>...</td>\n",
       "    </tr>\n",
       "    <tr>\n",
       "      <th>723</th>\n",
       "      <td>3</td>\n",
       "      <td>0</td>\n",
       "      <td>7</td>\n",
       "      <td>8</td>\n",
       "      <td>2</td>\n",
       "    </tr>\n",
       "    <tr>\n",
       "      <th>724</th>\n",
       "      <td>1</td>\n",
       "      <td>0</td>\n",
       "      <td>4</td>\n",
       "      <td>3</td>\n",
       "      <td>2</td>\n",
       "    </tr>\n",
       "    <tr>\n",
       "      <th>725</th>\n",
       "      <td>10</td>\n",
       "      <td>8</td>\n",
       "      <td>11</td>\n",
       "      <td>6</td>\n",
       "      <td>0</td>\n",
       "    </tr>\n",
       "    <tr>\n",
       "      <th>726</th>\n",
       "      <td>1</td>\n",
       "      <td>0</td>\n",
       "      <td>18</td>\n",
       "      <td>0</td>\n",
       "      <td>1</td>\n",
       "    </tr>\n",
       "    <tr>\n",
       "      <th>727</th>\n",
       "      <td>4</td>\n",
       "      <td>7</td>\n",
       "      <td>8</td>\n",
       "      <td>6</td>\n",
       "      <td>2</td>\n",
       "    </tr>\n",
       "  </tbody>\n",
       "</table>\n",
       "<p>728 rows × 5 columns</p>\n",
       "</div>"
      ],
      "text/plain": [
       "     SuddenDcc  SuddenAcc  actualspeedevents  clusters  Ranking\n",
       "0            4          1                  8         8        2\n",
       "1            3          1                 19         0        1\n",
       "2            1          2                 23         0        1\n",
       "3            1          0                  6         3        2\n",
       "4            3          3                 19         0        1\n",
       "..         ...        ...                ...       ...      ...\n",
       "723          3          0                  7         8        2\n",
       "724          1          0                  4         3        2\n",
       "725         10          8                 11         6        0\n",
       "726          1          0                 18         0        1\n",
       "727          4          7                  8         6        2\n",
       "\n",
       "[728 rows x 5 columns]"
      ]
     },
     "execution_count": 259,
     "metadata": {},
     "output_type": "execute_result"
    }
   ],
   "source": [
    "kmeans = KMeans(n_clusters=5,random_state=101)\n",
    "kmeans.fit(rankingcluster)\n",
    "rankingcluster['Ranking'] = kmeans.predict(rankingcluster)\n",
    "rankingcluster"
   ]
  },
  {
   "cell_type": "code",
   "execution_count": 260,
   "metadata": {},
   "outputs": [
    {
     "data": {
      "text/plain": [
       "array([2, 1, 4, 0, 3])"
      ]
     },
     "execution_count": 260,
     "metadata": {},
     "output_type": "execute_result"
    }
   ],
   "source": [
    "rankingcluster.Ranking.unique()\n",
    "#from sklearn.cluster import DBSCAN"
   ]
  },
  {
   "cell_type": "code",
   "execution_count": 261,
   "metadata": {},
   "outputs": [
    {
     "name": "stderr",
     "output_type": "stream",
     "text": [
      "C:\\anaconda\\lib\\site-packages\\pandas\\core\\generic.py:5168: SettingWithCopyWarning: \n",
      "A value is trying to be set on a copy of a slice from a DataFrame.\n",
      "Try using .loc[row_indexer,col_indexer] = value instead\n",
      "\n",
      "See the caveats in the documentation: https://pandas.pydata.org/pandas-docs/stable/user_guide/indexing.html#returning-a-view-versus-a-copy\n",
      "  self[name] = value\n"
     ]
    },
    {
     "data": {
      "text/plain": [
       "0         intermediate risk\n",
       "1      tending towards risk\n",
       "2      tending towards risk\n",
       "3         intermediate risk\n",
       "4      tending towards risk\n",
       "               ...         \n",
       "723       intermediate risk\n",
       "724       intermediate risk\n",
       "725                   Risky\n",
       "726    tending towards risk\n",
       "727       intermediate risk\n",
       "Name: Ranking, Length: 728, dtype: object"
      ]
     },
     "execution_count": 261,
     "metadata": {},
     "output_type": "execute_result"
    }
   ],
   "source": [
    "rankingcluster.Ranking = rankingcluster.Ranking.replace((0,1,2,3,4),('Risky','tending towards risk','intermediate risk','tending towards safety','Safe'))\n",
    "rankingcluster.Ranking"
   ]
  },
  {
   "cell_type": "code",
   "execution_count": 263,
   "metadata": {},
   "outputs": [
    {
     "data": {
      "text/plain": [
       "Counter({'intermediate risk': 414,\n",
       "         'tending towards risk': 169,\n",
       "         'Safe': 60,\n",
       "         'Risky': 73,\n",
       "         'tending towards safety': 12})"
      ]
     },
     "execution_count": 263,
     "metadata": {},
     "output_type": "execute_result"
    }
   ],
   "source": [
    "v=Counter(rankingcluster.Ranking)\n",
    "v"
   ]
  },
  {
   "cell_type": "code",
   "execution_count": 272,
   "metadata": {},
   "outputs": [
    {
     "name": "stderr",
     "output_type": "stream",
     "text": [
      "C:\\anaconda\\lib\\site-packages\\seaborn\\_decorators.py:36: FutureWarning: Pass the following variable as a keyword arg: x. From version 0.12, the only valid positional argument will be `data`, and passing other arguments without an explicit keyword will result in an error or misinterpretation.\n",
      "  warnings.warn(\n"
     ]
    },
    {
     "data": {
      "text/plain": [
       "<AxesSubplot:xlabel='Ranking', ylabel='count'>"
      ]
     },
     "execution_count": 272,
     "metadata": {},
     "output_type": "execute_result"
    },
    {
     "data": {
      "image/png": "[encoded data removed]",
      "text/plain": [
       "<Figure size 720x360 with 1 Axes>"
      ]
     },
     "metadata": {
      "needs_background": "light"
     },
     "output_type": "display_data"
    }
   ],
   "source": [
    "plt.figure(figsize=[10,5])\n",
    "sns.countplot(rankingcluster.Ranking,orient='h',palette=['y','#FF4500',\"b\",\"r\", \"#ADD8E6\"])"
   ]
  },
  {
   "cell_type": "code",
   "execution_count": 273,
   "metadata": {},
   "outputs": [
    {
     "data": {
      "text/html": [
       "<div>\n",
       "<style scoped>\n",
       "    .dataframe tbody tr th:only-of-type {\n",
       "        vertical-align: middle;\n",
       "    }\n",
       "\n",
       "    .dataframe tbody tr th {\n",
       "        vertical-align: top;\n",
       "    }\n",
       "\n",
       "    .dataframe thead th {\n",
       "        text-align: right;\n",
       "    }\n",
       "</style>\n",
       "<table border=\"1\" class=\"dataframe\">\n",
       "  <thead>\n",
       "    <tr style=\"text-align: right;\">\n",
       "      <th></th>\n",
       "      <th>SuddenDcc</th>\n",
       "      <th>SuddenAcc</th>\n",
       "      <th>actualspeedevents</th>\n",
       "      <th>clusters</th>\n",
       "      <th>Ranking</th>\n",
       "    </tr>\n",
       "  </thead>\n",
       "  <tbody>\n",
       "    <tr>\n",
       "      <th>0</th>\n",
       "      <td>4</td>\n",
       "      <td>1</td>\n",
       "      <td>8</td>\n",
       "      <td>8</td>\n",
       "      <td>intermediate risk</td>\n",
       "    </tr>\n",
       "    <tr>\n",
       "      <th>1</th>\n",
       "      <td>3</td>\n",
       "      <td>1</td>\n",
       "      <td>19</td>\n",
       "      <td>0</td>\n",
       "      <td>tending towards risk</td>\n",
       "    </tr>\n",
       "    <tr>\n",
       "      <th>2</th>\n",
       "      <td>1</td>\n",
       "      <td>2</td>\n",
       "      <td>23</td>\n",
       "      <td>0</td>\n",
       "      <td>tending towards risk</td>\n",
       "    </tr>\n",
       "    <tr>\n",
       "      <th>3</th>\n",
       "      <td>1</td>\n",
       "      <td>0</td>\n",
       "      <td>6</td>\n",
       "      <td>3</td>\n",
       "      <td>intermediate risk</td>\n",
       "    </tr>\n",
       "    <tr>\n",
       "      <th>4</th>\n",
       "      <td>3</td>\n",
       "      <td>3</td>\n",
       "      <td>19</td>\n",
       "      <td>0</td>\n",
       "      <td>tending towards risk</td>\n",
       "    </tr>\n",
       "  </tbody>\n",
       "</table>\n",
       "</div>"
      ],
      "text/plain": [
       "   SuddenDcc  SuddenAcc  actualspeedevents  clusters               Ranking\n",
       "0          4          1                  8         8     intermediate risk\n",
       "1          3          1                 19         0  tending towards risk\n",
       "2          1          2                 23         0  tending towards risk\n",
       "3          1          0                  6         3     intermediate risk\n",
       "4          3          3                 19         0  tending towards risk"
      ]
     },
     "execution_count": 273,
     "metadata": {},
     "output_type": "execute_result"
    }
   ],
   "source": [
    "rankingcluster.head()"
   ]
  },
  {
   "cell_type": "markdown",
   "metadata": {},
   "source": [
    "## For outlier and noise handling we are using DBSCAN"
   ]
  },
  {
   "cell_type": "code",
   "execution_count": 274,
   "metadata": {},
   "outputs": [],
   "source": [
    "from sklearn.cluster import DBSCAN"
   ]
  },
  {
   "cell_type": "code",
   "execution_count": 320,
   "metadata": {},
   "outputs": [],
   "source": [
    "# you can always use hyperparamter tuning to get the best results\n",
    "dbscan =DBSCAN(eps=4,min_samples=10)\n",
    "model = dbscan.fit(df[['SuddenAcc','SuddenDcc','speedoverlimit']])"
   ]
  },
  {
   "cell_type": "code",
   "execution_count": 321,
   "metadata": {},
   "outputs": [
    {
     "name": "stdout",
     "output_type": "stream",
     "text": [
      "Counter({0: 451, -1: 213, 1: 47, 2: 10, 3: 7})\n"
     ]
    }
   ],
   "source": [
    "labels= model.labels_\n",
    "from collections import Counter\n",
    "print(Counter(labels))"
   ]
  },
  {
   "cell_type": "code",
   "execution_count": 322,
   "metadata": {},
   "outputs": [
    {
     "data": {
      "text/plain": [
       "4"
      ]
     },
     "execution_count": 322,
     "metadata": {},
     "output_type": "execute_result"
    }
   ],
   "source": [
    "n_clusters= len(set(labels))-(1 if -1 in labels else 0)\n",
    "n_clusters"
   ]
  },
  {
   "cell_type": "code",
   "execution_count": 323,
   "metadata": {
    "scrolled": true
   },
   "outputs": [],
   "source": [
    "# similary you can rank the clusters ignoring the (-1) as it is considered as an outlier in DBSCAN"
   ]
  },
  {
   "cell_type": "markdown",
   "metadata": {},
   "source": [
    "## Metrics which can be devised for measuring driving behaviour"
   ]
  },
  {
   "cell_type": "markdown",
   "metadata": {},
   "source": [
    "      Manaully doing calculation of the appropriate features and defining different thersholds for different ranks/scores.\n",
    " -->>> But the drawback is even if you are calculating single or multiple coulumns, defining thershold is a hectic task <<<--"
   ]
  },
  {
   "cell_type": "code",
   "execution_count": null,
   "metadata": {},
   "outputs": [],
   "source": []
  }
 ],
 "metadata": {
  "kernelspec": {
   "display_name": "Python 3",
   "language": "python",
   "name": "python3"
  },
  "language_info": {
   "codemirror_mode": {
    "name": "ipython",
    "version": 3
   },
   "file_extension": ".py",
   "mimetype": "text/x-python",
   "name": "python",
   "nbconvert_exporter": "python",
   "pygments_lexer": "ipython3",
   "version": "3.8.5"
  }
 },
 "nbformat": 4,
 "nbformat_minor": 4
}
